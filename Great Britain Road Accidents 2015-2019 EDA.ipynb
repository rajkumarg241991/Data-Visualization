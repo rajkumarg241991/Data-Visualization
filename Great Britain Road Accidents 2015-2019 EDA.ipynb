{
 "cells": [
  {
   "cell_type": "markdown",
   "metadata": {},
   "source": [
    "# Great Britain Road Accidents 2015-2019 EDA\n"
   ]
  },
  {
   "cell_type": "markdown",
   "metadata": {},
   "source": [
    "**1. Importing the required libraries for EDA**\n",
    "\n",
    "Below are the libraries that are used in order to perform EDA (Exploratory data analysis) in this Project."
   ]
  },
  {
   "cell_type": "code",
   "execution_count": 262,
   "metadata": {},
   "outputs": [],
   "source": [
    "import pandas as pd\n",
    "import numpy as np"
   ]
  },
  {
   "cell_type": "markdown",
   "metadata": {},
   "source": [
    "**2. Loading the data into the data frame**"
   ]
  },
  {
   "cell_type": "markdown",
   "metadata": {},
   "source": [
    "\n",
    "Loading the data into the pandas data frame is certainly one of the most important steps in EDA."
   ]
  },
  {
   "cell_type": "code",
   "execution_count": 241,
   "metadata": {},
   "outputs": [
    {
     "data": {
      "text/html": [
       "<div>\n",
       "<style scoped>\n",
       "    .dataframe tbody tr th:only-of-type {\n",
       "        vertical-align: middle;\n",
       "    }\n",
       "\n",
       "    .dataframe tbody tr th {\n",
       "        vertical-align: top;\n",
       "    }\n",
       "\n",
       "    .dataframe thead th {\n",
       "        text-align: right;\n",
       "    }\n",
       "</style>\n",
       "<table border=\"1\" class=\"dataframe\">\n",
       "  <thead>\n",
       "    <tr style=\"text-align: right;\">\n",
       "      <th></th>\n",
       "      <th>Accident year</th>\n",
       "      <th>Country</th>\n",
       "      <th>Ons code</th>\n",
       "      <th>Urban rural</th>\n",
       "      <th>Speed limit</th>\n",
       "      <th>Weather condition</th>\n",
       "      <th>Road surface</th>\n",
       "      <th>All accidents</th>\n",
       "    </tr>\n",
       "  </thead>\n",
       "  <tbody>\n",
       "    <tr>\n",
       "      <th>0</th>\n",
       "      <td>2015</td>\n",
       "      <td>England</td>\n",
       "      <td>E92000001</td>\n",
       "      <td>Urban</td>\n",
       "      <td>NaN</td>\n",
       "      <td>Fine no high winds</td>\n",
       "      <td>Dry</td>\n",
       "      <td>1</td>\n",
       "    </tr>\n",
       "    <tr>\n",
       "      <th>1</th>\n",
       "      <td>2015</td>\n",
       "      <td>England</td>\n",
       "      <td>E92000001</td>\n",
       "      <td>Urban</td>\n",
       "      <td>1-20 mph</td>\n",
       "      <td>NaN</td>\n",
       "      <td>Dry</td>\n",
       "      <td>77</td>\n",
       "    </tr>\n",
       "    <tr>\n",
       "      <th>2</th>\n",
       "      <td>2015</td>\n",
       "      <td>England</td>\n",
       "      <td>E92000001</td>\n",
       "      <td>Urban</td>\n",
       "      <td>1-20 mph</td>\n",
       "      <td>NaN</td>\n",
       "      <td>Wet or damp</td>\n",
       "      <td>16</td>\n",
       "    </tr>\n",
       "    <tr>\n",
       "      <th>3</th>\n",
       "      <td>2015</td>\n",
       "      <td>England</td>\n",
       "      <td>E92000001</td>\n",
       "      <td>Urban</td>\n",
       "      <td>1-20 mph</td>\n",
       "      <td>NaN</td>\n",
       "      <td>Frost or ice</td>\n",
       "      <td>1</td>\n",
       "    </tr>\n",
       "    <tr>\n",
       "      <th>4</th>\n",
       "      <td>2015</td>\n",
       "      <td>England</td>\n",
       "      <td>E92000001</td>\n",
       "      <td>Urban</td>\n",
       "      <td>1-20 mph</td>\n",
       "      <td>Fine no high winds</td>\n",
       "      <td>NaN</td>\n",
       "      <td>1</td>\n",
       "    </tr>\n",
       "  </tbody>\n",
       "</table>\n",
       "</div>"
      ],
      "text/plain": [
       "   Accident year  Country   Ons code Urban rural Speed limit  \\\n",
       "0           2015  England  E92000001       Urban         NaN   \n",
       "1           2015  England  E92000001       Urban    1-20 mph   \n",
       "2           2015  England  E92000001       Urban    1-20 mph   \n",
       "3           2015  England  E92000001       Urban    1-20 mph   \n",
       "4           2015  England  E92000001       Urban    1-20 mph   \n",
       "\n",
       "    Weather condition  Road surface  All accidents  \n",
       "0  Fine no high winds           Dry              1  \n",
       "1                 NaN           Dry             77  \n",
       "2                 NaN   Wet or damp             16  \n",
       "3                 NaN  Frost or ice              1  \n",
       "4  Fine no high winds           NaN              1  "
      ]
     },
     "execution_count": 241,
     "metadata": {},
     "output_type": "execute_result"
    }
   ],
   "source": [
    "df = pd.read_csv(r'C:\\Cardiff University\\CMT218 Data Visualisation\\Assessment and Feedback\\CW2\\Project_Live\\Great Britain Road Accidents 2015-2019.csv')\n",
    "# To display the top 5 rows \n",
    "df.head(5)"
   ]
  },
  {
   "cell_type": "code",
   "execution_count": 242,
   "metadata": {},
   "outputs": [
    {
     "data": {
      "text/html": [
       "<div>\n",
       "<style scoped>\n",
       "    .dataframe tbody tr th:only-of-type {\n",
       "        vertical-align: middle;\n",
       "    }\n",
       "\n",
       "    .dataframe tbody tr th {\n",
       "        vertical-align: top;\n",
       "    }\n",
       "\n",
       "    .dataframe thead th {\n",
       "        text-align: right;\n",
       "    }\n",
       "</style>\n",
       "<table border=\"1\" class=\"dataframe\">\n",
       "  <thead>\n",
       "    <tr style=\"text-align: right;\">\n",
       "      <th></th>\n",
       "      <th>Accident year</th>\n",
       "      <th>Country</th>\n",
       "      <th>Ons code</th>\n",
       "      <th>Urban rural</th>\n",
       "      <th>Speed limit</th>\n",
       "      <th>Weather condition</th>\n",
       "      <th>Road surface</th>\n",
       "      <th>All accidents</th>\n",
       "    </tr>\n",
       "  </thead>\n",
       "  <tbody>\n",
       "    <tr>\n",
       "      <th>3788</th>\n",
       "      <td>2019</td>\n",
       "      <td>Scotland</td>\n",
       "      <td>S92000003</td>\n",
       "      <td>Rural</td>\n",
       "      <td>Motorway</td>\n",
       "      <td>Snowing no high winds</td>\n",
       "      <td>Frost or ice</td>\n",
       "      <td>1</td>\n",
       "    </tr>\n",
       "    <tr>\n",
       "      <th>3789</th>\n",
       "      <td>2019</td>\n",
       "      <td>Scotland</td>\n",
       "      <td>S92000003</td>\n",
       "      <td>Rural</td>\n",
       "      <td>Motorway</td>\n",
       "      <td>Fine + high winds</td>\n",
       "      <td>Wet or damp</td>\n",
       "      <td>1</td>\n",
       "    </tr>\n",
       "    <tr>\n",
       "      <th>3790</th>\n",
       "      <td>2019</td>\n",
       "      <td>Scotland</td>\n",
       "      <td>S92000003</td>\n",
       "      <td>Rural</td>\n",
       "      <td>Motorway</td>\n",
       "      <td>Raining + high winds</td>\n",
       "      <td>Wet or damp</td>\n",
       "      <td>3</td>\n",
       "    </tr>\n",
       "    <tr>\n",
       "      <th>3791</th>\n",
       "      <td>2019</td>\n",
       "      <td>Scotland</td>\n",
       "      <td>S92000003</td>\n",
       "      <td>Rural</td>\n",
       "      <td>Motorway</td>\n",
       "      <td>Snowing + high winds</td>\n",
       "      <td>Snow</td>\n",
       "      <td>1</td>\n",
       "    </tr>\n",
       "    <tr>\n",
       "      <th>3792</th>\n",
       "      <td>2019</td>\n",
       "      <td>Scotland</td>\n",
       "      <td>S92000003</td>\n",
       "      <td>Rural</td>\n",
       "      <td>Motorway</td>\n",
       "      <td>Fog or mist</td>\n",
       "      <td>Wet or damp</td>\n",
       "      <td>1</td>\n",
       "    </tr>\n",
       "  </tbody>\n",
       "</table>\n",
       "</div>"
      ],
      "text/plain": [
       "      Accident year   Country   Ons code Urban rural Speed limit  \\\n",
       "3788           2019  Scotland  S92000003       Rural    Motorway   \n",
       "3789           2019  Scotland  S92000003       Rural    Motorway   \n",
       "3790           2019  Scotland  S92000003       Rural    Motorway   \n",
       "3791           2019  Scotland  S92000003       Rural    Motorway   \n",
       "3792           2019  Scotland  S92000003       Rural    Motorway   \n",
       "\n",
       "          Weather condition  Road surface  All accidents  \n",
       "3788  Snowing no high winds  Frost or ice              1  \n",
       "3789      Fine + high winds   Wet or damp              1  \n",
       "3790   Raining + high winds   Wet or damp              3  \n",
       "3791   Snowing + high winds          Snow              1  \n",
       "3792            Fog or mist   Wet or damp              1  "
      ]
     },
     "execution_count": 242,
     "metadata": {},
     "output_type": "execute_result"
    }
   ],
   "source": [
    "df.tail(5)                        # To display the botton 5 rows"
   ]
  },
  {
   "cell_type": "markdown",
   "metadata": {},
   "source": [
    "**3. Checking the types of data**\n",
    "\n",
    "Here we check for the datatypes because sometimes the Accidents or Years of the dataset would be stored as a string, if in that case, we have to convert that string to the integer data only then we can plot the data via a graph. Here, in this case, the data is already in integer format so nothing to worry."
   ]
  },
  {
   "cell_type": "code",
   "execution_count": 243,
   "metadata": {},
   "outputs": [
    {
     "data": {
      "text/plain": [
       "Accident year         int64\n",
       "Country              object\n",
       "Ons code             object\n",
       "Urban rural          object\n",
       "Speed limit          object\n",
       "Weather condition    object\n",
       "Road surface         object\n",
       "All accidents         int64\n",
       "dtype: object"
      ]
     },
     "execution_count": 243,
     "metadata": {},
     "output_type": "execute_result"
    }
   ],
   "source": [
    "df.dtypes"
   ]
  },
  {
   "cell_type": "markdown",
   "metadata": {},
   "source": [
    "**4. Dropping irrelevant columns**\n",
    "\n",
    "This step is certainly needed in every EDA because sometimes there would be many columns that we never use in such cases dropping is the only solution. In this case, the columns such as 'Ons code' doesn't make any sense to me so I just dropped for this instance."
   ]
  },
  {
   "cell_type": "code",
   "execution_count": 244,
   "metadata": {},
   "outputs": [
    {
     "data": {
      "text/html": [
       "<div>\n",
       "<style scoped>\n",
       "    .dataframe tbody tr th:only-of-type {\n",
       "        vertical-align: middle;\n",
       "    }\n",
       "\n",
       "    .dataframe tbody tr th {\n",
       "        vertical-align: top;\n",
       "    }\n",
       "\n",
       "    .dataframe thead th {\n",
       "        text-align: right;\n",
       "    }\n",
       "</style>\n",
       "<table border=\"1\" class=\"dataframe\">\n",
       "  <thead>\n",
       "    <tr style=\"text-align: right;\">\n",
       "      <th></th>\n",
       "      <th>Accident year</th>\n",
       "      <th>Country</th>\n",
       "      <th>Urban rural</th>\n",
       "      <th>Speed limit</th>\n",
       "      <th>Weather condition</th>\n",
       "      <th>Road surface</th>\n",
       "      <th>All accidents</th>\n",
       "    </tr>\n",
       "  </thead>\n",
       "  <tbody>\n",
       "    <tr>\n",
       "      <th>0</th>\n",
       "      <td>2015</td>\n",
       "      <td>England</td>\n",
       "      <td>Urban</td>\n",
       "      <td>NaN</td>\n",
       "      <td>Fine no high winds</td>\n",
       "      <td>Dry</td>\n",
       "      <td>1</td>\n",
       "    </tr>\n",
       "    <tr>\n",
       "      <th>1</th>\n",
       "      <td>2015</td>\n",
       "      <td>England</td>\n",
       "      <td>Urban</td>\n",
       "      <td>1-20 mph</td>\n",
       "      <td>NaN</td>\n",
       "      <td>Dry</td>\n",
       "      <td>77</td>\n",
       "    </tr>\n",
       "    <tr>\n",
       "      <th>2</th>\n",
       "      <td>2015</td>\n",
       "      <td>England</td>\n",
       "      <td>Urban</td>\n",
       "      <td>1-20 mph</td>\n",
       "      <td>NaN</td>\n",
       "      <td>Wet or damp</td>\n",
       "      <td>16</td>\n",
       "    </tr>\n",
       "    <tr>\n",
       "      <th>3</th>\n",
       "      <td>2015</td>\n",
       "      <td>England</td>\n",
       "      <td>Urban</td>\n",
       "      <td>1-20 mph</td>\n",
       "      <td>NaN</td>\n",
       "      <td>Frost or ice</td>\n",
       "      <td>1</td>\n",
       "    </tr>\n",
       "    <tr>\n",
       "      <th>4</th>\n",
       "      <td>2015</td>\n",
       "      <td>England</td>\n",
       "      <td>Urban</td>\n",
       "      <td>1-20 mph</td>\n",
       "      <td>Fine no high winds</td>\n",
       "      <td>NaN</td>\n",
       "      <td>1</td>\n",
       "    </tr>\n",
       "  </tbody>\n",
       "</table>\n",
       "</div>"
      ],
      "text/plain": [
       "   Accident year  Country Urban rural Speed limit   Weather condition  \\\n",
       "0           2015  England       Urban         NaN  Fine no high winds   \n",
       "1           2015  England       Urban    1-20 mph                 NaN   \n",
       "2           2015  England       Urban    1-20 mph                 NaN   \n",
       "3           2015  England       Urban    1-20 mph                 NaN   \n",
       "4           2015  England       Urban    1-20 mph  Fine no high winds   \n",
       "\n",
       "   Road surface  All accidents  \n",
       "0           Dry              1  \n",
       "1           Dry             77  \n",
       "2   Wet or damp             16  \n",
       "3  Frost or ice              1  \n",
       "4           NaN              1  "
      ]
     },
     "execution_count": 244,
     "metadata": {},
     "output_type": "execute_result"
    }
   ],
   "source": [
    "df = df.drop(['Ons code'], axis=1)\n",
    "df.head(5)"
   ]
  },
  {
   "cell_type": "markdown",
   "metadata": {},
   "source": [
    "**5. Renaming the columns**\n",
    "\n",
    "In this instance, most of the column names are very confusing to read, so I just tweaked their column names. This is a good approach it improves the readability of the data set."
   ]
  },
  {
   "cell_type": "code",
   "execution_count": 245,
   "metadata": {},
   "outputs": [
    {
     "data": {
      "text/html": [
       "<div>\n",
       "<style scoped>\n",
       "    .dataframe tbody tr th:only-of-type {\n",
       "        vertical-align: middle;\n",
       "    }\n",
       "\n",
       "    .dataframe tbody tr th {\n",
       "        vertical-align: top;\n",
       "    }\n",
       "\n",
       "    .dataframe thead th {\n",
       "        text-align: right;\n",
       "    }\n",
       "</style>\n",
       "<table border=\"1\" class=\"dataframe\">\n",
       "  <thead>\n",
       "    <tr style=\"text-align: right;\">\n",
       "      <th></th>\n",
       "      <th>Accident_year</th>\n",
       "      <th>Country</th>\n",
       "      <th>Urban/Rural</th>\n",
       "      <th>Speed_limit</th>\n",
       "      <th>Weather_condition</th>\n",
       "      <th>Road_surface</th>\n",
       "      <th>All_Accidents</th>\n",
       "    </tr>\n",
       "  </thead>\n",
       "  <tbody>\n",
       "    <tr>\n",
       "      <th>0</th>\n",
       "      <td>2015</td>\n",
       "      <td>England</td>\n",
       "      <td>Urban</td>\n",
       "      <td>NaN</td>\n",
       "      <td>Fine no high winds</td>\n",
       "      <td>Dry</td>\n",
       "      <td>1</td>\n",
       "    </tr>\n",
       "    <tr>\n",
       "      <th>1</th>\n",
       "      <td>2015</td>\n",
       "      <td>England</td>\n",
       "      <td>Urban</td>\n",
       "      <td>1-20 mph</td>\n",
       "      <td>NaN</td>\n",
       "      <td>Dry</td>\n",
       "      <td>77</td>\n",
       "    </tr>\n",
       "    <tr>\n",
       "      <th>2</th>\n",
       "      <td>2015</td>\n",
       "      <td>England</td>\n",
       "      <td>Urban</td>\n",
       "      <td>1-20 mph</td>\n",
       "      <td>NaN</td>\n",
       "      <td>Wet or damp</td>\n",
       "      <td>16</td>\n",
       "    </tr>\n",
       "    <tr>\n",
       "      <th>3</th>\n",
       "      <td>2015</td>\n",
       "      <td>England</td>\n",
       "      <td>Urban</td>\n",
       "      <td>1-20 mph</td>\n",
       "      <td>NaN</td>\n",
       "      <td>Frost or ice</td>\n",
       "      <td>1</td>\n",
       "    </tr>\n",
       "    <tr>\n",
       "      <th>4</th>\n",
       "      <td>2015</td>\n",
       "      <td>England</td>\n",
       "      <td>Urban</td>\n",
       "      <td>1-20 mph</td>\n",
       "      <td>Fine no high winds</td>\n",
       "      <td>NaN</td>\n",
       "      <td>1</td>\n",
       "    </tr>\n",
       "  </tbody>\n",
       "</table>\n",
       "</div>"
      ],
      "text/plain": [
       "   Accident_year  Country Urban/Rural Speed_limit   Weather_condition  \\\n",
       "0           2015  England       Urban         NaN  Fine no high winds   \n",
       "1           2015  England       Urban    1-20 mph                 NaN   \n",
       "2           2015  England       Urban    1-20 mph                 NaN   \n",
       "3           2015  England       Urban    1-20 mph                 NaN   \n",
       "4           2015  England       Urban    1-20 mph  Fine no high winds   \n",
       "\n",
       "   Road_surface  All_Accidents  \n",
       "0           Dry              1  \n",
       "1           Dry             77  \n",
       "2   Wet or damp             16  \n",
       "3  Frost or ice              1  \n",
       "4           NaN              1  "
      ]
     },
     "execution_count": 245,
     "metadata": {},
     "output_type": "execute_result"
    }
   ],
   "source": [
    "df = df.rename(columns={\"Accident year\": \"Accident_year\", \"Urban rural\": \"Urban/Rural\", \"Speed limit\": \"Speed_limit\", \"Weather condition\": \"Weather_condition\", \"Road surface\": \"Road_surface\", \"All accidents\": \"All_Accidents\"})\n",
    "df.head(5)"
   ]
  },
  {
   "cell_type": "code",
   "execution_count": 246,
   "metadata": {},
   "outputs": [
    {
     "data": {
      "text/html": [
       "<div>\n",
       "<style scoped>\n",
       "    .dataframe tbody tr th:only-of-type {\n",
       "        vertical-align: middle;\n",
       "    }\n",
       "\n",
       "    .dataframe tbody tr th {\n",
       "        vertical-align: top;\n",
       "    }\n",
       "\n",
       "    .dataframe thead th {\n",
       "        text-align: right;\n",
       "    }\n",
       "</style>\n",
       "<table border=\"1\" class=\"dataframe\">\n",
       "  <thead>\n",
       "    <tr style=\"text-align: right;\">\n",
       "      <th></th>\n",
       "      <th>Accident_year</th>\n",
       "      <th>Country</th>\n",
       "      <th>Urban/Rural</th>\n",
       "      <th>Speed_limit</th>\n",
       "      <th>Weather_condition</th>\n",
       "      <th>Road_surface</th>\n",
       "      <th>All_Accidents</th>\n",
       "    </tr>\n",
       "  </thead>\n",
       "  <tbody>\n",
       "    <tr>\n",
       "      <th>0</th>\n",
       "      <td>2015</td>\n",
       "      <td>England</td>\n",
       "      <td>Urban</td>\n",
       "      <td>NaN</td>\n",
       "      <td>Fine no high winds</td>\n",
       "      <td>Dry</td>\n",
       "      <td>1</td>\n",
       "    </tr>\n",
       "    <tr>\n",
       "      <th>1</th>\n",
       "      <td>2015</td>\n",
       "      <td>England</td>\n",
       "      <td>Urban</td>\n",
       "      <td>1-20 mph</td>\n",
       "      <td>NaN</td>\n",
       "      <td>Dry</td>\n",
       "      <td>77</td>\n",
       "    </tr>\n",
       "    <tr>\n",
       "      <th>2</th>\n",
       "      <td>2015</td>\n",
       "      <td>England</td>\n",
       "      <td>Urban</td>\n",
       "      <td>1-20 mph</td>\n",
       "      <td>NaN</td>\n",
       "      <td>Wet or damp</td>\n",
       "      <td>16</td>\n",
       "    </tr>\n",
       "    <tr>\n",
       "      <th>3</th>\n",
       "      <td>2015</td>\n",
       "      <td>England</td>\n",
       "      <td>Urban</td>\n",
       "      <td>1-20 mph</td>\n",
       "      <td>NaN</td>\n",
       "      <td>Frost or ice</td>\n",
       "      <td>1</td>\n",
       "    </tr>\n",
       "    <tr>\n",
       "      <th>4</th>\n",
       "      <td>2015</td>\n",
       "      <td>England</td>\n",
       "      <td>Urban</td>\n",
       "      <td>1-20 mph</td>\n",
       "      <td>Fine no high winds</td>\n",
       "      <td>NaN</td>\n",
       "      <td>1</td>\n",
       "    </tr>\n",
       "    <tr>\n",
       "      <th>5</th>\n",
       "      <td>2015</td>\n",
       "      <td>England</td>\n",
       "      <td>Urban</td>\n",
       "      <td>1-20 mph</td>\n",
       "      <td>Fine no high winds</td>\n",
       "      <td>Dry</td>\n",
       "      <td>2889</td>\n",
       "    </tr>\n",
       "    <tr>\n",
       "      <th>6</th>\n",
       "      <td>2015</td>\n",
       "      <td>England</td>\n",
       "      <td>Urban</td>\n",
       "      <td>1-20 mph</td>\n",
       "      <td>Fine no high winds</td>\n",
       "      <td>Wet or damp</td>\n",
       "      <td>323</td>\n",
       "    </tr>\n",
       "    <tr>\n",
       "      <th>7</th>\n",
       "      <td>2015</td>\n",
       "      <td>England</td>\n",
       "      <td>Urban</td>\n",
       "      <td>1-20 mph</td>\n",
       "      <td>Fine no high winds</td>\n",
       "      <td>Snow</td>\n",
       "      <td>1</td>\n",
       "    </tr>\n",
       "    <tr>\n",
       "      <th>8</th>\n",
       "      <td>2015</td>\n",
       "      <td>England</td>\n",
       "      <td>Urban</td>\n",
       "      <td>1-20 mph</td>\n",
       "      <td>Fine no high winds</td>\n",
       "      <td>Frost or ice</td>\n",
       "      <td>9</td>\n",
       "    </tr>\n",
       "    <tr>\n",
       "      <th>9</th>\n",
       "      <td>2015</td>\n",
       "      <td>England</td>\n",
       "      <td>Urban</td>\n",
       "      <td>1-20 mph</td>\n",
       "      <td>Raining no high winds</td>\n",
       "      <td>Dry</td>\n",
       "      <td>2</td>\n",
       "    </tr>\n",
       "  </tbody>\n",
       "</table>\n",
       "</div>"
      ],
      "text/plain": [
       "   Accident_year  Country Urban/Rural Speed_limit      Weather_condition  \\\n",
       "0           2015  England       Urban         NaN     Fine no high winds   \n",
       "1           2015  England       Urban    1-20 mph                    NaN   \n",
       "2           2015  England       Urban    1-20 mph                    NaN   \n",
       "3           2015  England       Urban    1-20 mph                    NaN   \n",
       "4           2015  England       Urban    1-20 mph     Fine no high winds   \n",
       "5           2015  England       Urban    1-20 mph     Fine no high winds   \n",
       "6           2015  England       Urban    1-20 mph     Fine no high winds   \n",
       "7           2015  England       Urban    1-20 mph     Fine no high winds   \n",
       "8           2015  England       Urban    1-20 mph     Fine no high winds   \n",
       "9           2015  England       Urban    1-20 mph  Raining no high winds   \n",
       "\n",
       "   Road_surface  All_Accidents  \n",
       "0           Dry              1  \n",
       "1           Dry             77  \n",
       "2   Wet or damp             16  \n",
       "3  Frost or ice              1  \n",
       "4           NaN              1  \n",
       "5           Dry           2889  \n",
       "6   Wet or damp            323  \n",
       "7          Snow              1  \n",
       "8  Frost or ice              9  \n",
       "9           Dry              2  "
      ]
     },
     "execution_count": 246,
     "metadata": {},
     "output_type": "execute_result"
    }
   ],
   "source": [
    "df.head(10)"
   ]
  },
  {
   "cell_type": "markdown",
   "metadata": {},
   "source": [
    "**6. Dropping the duplicate rows**\n",
    "\n",
    "This is often a handy thing to do because a huge data set as in this case contains more than 10, 000 rows often have some duplicate data which might be disturbing, so here I remove all the duplicate value from the data-set. For **example** prior to removing I had 16599 rows of data but after removing the duplicates 10925 data meaning that I had 989 of duplicate data."
   ]
  },
  {
   "cell_type": "code",
   "execution_count": 247,
   "metadata": {},
   "outputs": [
    {
     "data": {
      "text/plain": [
       "(3793, 7)"
      ]
     },
     "execution_count": 247,
     "metadata": {},
     "output_type": "execute_result"
    }
   ],
   "source": [
    "df.shape"
   ]
  },
  {
   "cell_type": "code",
   "execution_count": 248,
   "metadata": {},
   "outputs": [
    {
     "name": "stdout",
     "output_type": "stream",
     "text": [
      "number of duplicate rows:  (0, 7)\n"
     ]
    }
   ],
   "source": [
    "duplicate_rows_df = df[df.duplicated()]\n",
    "print(\"number of duplicate rows: \", duplicate_rows_df.shape)"
   ]
  },
  {
   "cell_type": "markdown",
   "metadata": {},
   "source": [
    "In my data set, I did not find any duplicate entries."
   ]
  },
  {
   "cell_type": "markdown",
   "metadata": {},
   "source": [
    "**7. Dropping the missing or null values**\n",
    "\n",
    "This is mostly similar to the previous step but in here all the missing values are detected and are dropped later. Now, this is not a good approach to do so, because many people just replace the missing values with the mean or the average of that column, but in this case, I just dropped that missing values."
   ]
  },
  {
   "cell_type": "code",
   "execution_count": 249,
   "metadata": {},
   "outputs": [
    {
     "data": {
      "text/plain": [
       "Accident_year        3793\n",
       "Country              3793\n",
       "Urban/Rural          3792\n",
       "Speed_limit          3781\n",
       "Weather_condition    3350\n",
       "Road_surface         3570\n",
       "All_Accidents        3793\n",
       "dtype: int64"
      ]
     },
     "execution_count": 249,
     "metadata": {},
     "output_type": "execute_result"
    }
   ],
   "source": [
    "df.count()"
   ]
  },
  {
   "cell_type": "code",
   "execution_count": 250,
   "metadata": {},
   "outputs": [
    {
     "name": "stdout",
     "output_type": "stream",
     "text": [
      "Accident_year          0\n",
      "Country                0\n",
      "Urban/Rural            1\n",
      "Speed_limit           12\n",
      "Weather_condition    443\n",
      "Road_surface         223\n",
      "All_Accidents          0\n",
      "dtype: int64\n"
     ]
    }
   ],
   "source": [
    "print(df.isnull().sum())"
   ]
  },
  {
   "cell_type": "markdown",
   "metadata": {},
   "source": [
    "**8.Dropping the rows**"
   ]
  },
  {
   "cell_type": "code",
   "execution_count": 257,
   "metadata": {},
   "outputs": [],
   "source": [
    "def drop_cols_na(df, threshold=0.5): # Don't drop the rows.If the NaN represents more than 50% of the Column.\n",
    "  threshold = len(df.index) * threshold\n",
    "  cols=[c for c in df.columns if sum(df[c].isnull()) >= threshold]\n",
    "  df.drop(cols,axis=0,errors='ignore', inplace = True)\n"
   ]
  },
  {
   "cell_type": "code",
   "execution_count": 258,
   "metadata": {},
   "outputs": [],
   "source": [
    "drop_cols_na(df)"
   ]
  },
  {
   "cell_type": "code",
   "execution_count": 259,
   "metadata": {},
   "outputs": [
    {
     "data": {
      "text/plain": [
       "Accident_year        3793\n",
       "Country              3793\n",
       "Urban/Rural          3792\n",
       "Speed_limit          3781\n",
       "Weather_condition    3350\n",
       "Road_surface         3570\n",
       "All_Accidents        3793\n",
       "dtype: int64"
      ]
     },
     "execution_count": 259,
     "metadata": {},
     "output_type": "execute_result"
    }
   ],
   "source": [
    "df.count()"
   ]
  },
  {
   "cell_type": "code",
   "execution_count": 260,
   "metadata": {},
   "outputs": [
    {
     "name": "stdout",
     "output_type": "stream",
     "text": [
      "Accident_year          0\n",
      "Country                0\n",
      "Urban/Rural            1\n",
      "Speed_limit           12\n",
      "Weather_condition    443\n",
      "Road_surface         223\n",
      "All_Accidents          0\n",
      "dtype: int64\n"
     ]
    }
   ],
   "source": [
    "print(df.isnull().sum())   # After dropping the values"
   ]
  },
  {
   "cell_type": "markdown",
   "metadata": {},
   "source": [
    "**9.Export Pandas DataFrame to a CSV File**"
   ]
  },
  {
   "cell_type": "code",
   "execution_count": 256,
   "metadata": {},
   "outputs": [],
   "source": [
    "df.to_csv(r'C:\\Cardiff University\\CMT218 Data Visualisation\\Assessment and Feedback\\CW2\\Project_Live\\Great Britain Road Accidents 2015-2019 Cleaned data_1.csv', index = False)"
   ]
  },
  {
   "cell_type": "code",
   "execution_count": null,
   "metadata": {},
   "outputs": [],
   "source": []
  }
 ],
 "metadata": {
  "kernelspec": {
   "display_name": "Python 3",
   "language": "python",
   "name": "python3"
  },
  "language_info": {
   "codemirror_mode": {
    "name": "ipython",
    "version": 3
   },
   "file_extension": ".py",
   "mimetype": "text/x-python",
   "name": "python",
   "nbconvert_exporter": "python",
   "pygments_lexer": "ipython3",
   "version": "3.7.6"
  }
 },
 "nbformat": 4,
 "nbformat_minor": 4
}
