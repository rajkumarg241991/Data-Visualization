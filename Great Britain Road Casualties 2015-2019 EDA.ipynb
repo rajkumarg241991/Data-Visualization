{
 "cells": [
  {
   "cell_type": "markdown",
   "metadata": {},
   "source": [
    "# Great Britain Road Casualties 2015-2019 EDA"
   ]
  },
  {
   "cell_type": "markdown",
   "metadata": {},
   "source": [
    "**1. Importing the required libraries for EDA**\n",
    "\n",
    "Below are the libraries that are used in order to perform EDA (Exploratory data analysis) in this Project."
   ]
  },
  {
   "cell_type": "code",
   "execution_count": 84,
   "metadata": {},
   "outputs": [],
   "source": [
    "import pandas as pd\n",
    "import numpy as np"
   ]
  },
  {
   "cell_type": "markdown",
   "metadata": {},
   "source": [
    "**2. Loading the data into the data frame**"
   ]
  },
  {
   "cell_type": "markdown",
   "metadata": {},
   "source": [
    "\n",
    "Loading the data into the pandas data frame is certainly one of the most important steps in EDA."
   ]
  },
  {
   "cell_type": "code",
   "execution_count": 65,
   "metadata": {},
   "outputs": [
    {
     "data": {
      "text/html": [
       "<div>\n",
       "<style scoped>\n",
       "    .dataframe tbody tr th:only-of-type {\n",
       "        vertical-align: middle;\n",
       "    }\n",
       "\n",
       "    .dataframe tbody tr th {\n",
       "        vertical-align: top;\n",
       "    }\n",
       "\n",
       "    .dataframe thead th {\n",
       "        text-align: right;\n",
       "    }\n",
       "</style>\n",
       "<table border=\"1\" class=\"dataframe\">\n",
       "  <thead>\n",
       "    <tr style=\"text-align: right;\">\n",
       "      <th></th>\n",
       "      <th>Accident year</th>\n",
       "      <th>Country</th>\n",
       "      <th>Ons code</th>\n",
       "      <th>Road user</th>\n",
       "      <th>Casualty class</th>\n",
       "      <th>Casualty sex</th>\n",
       "      <th>Casualty age</th>\n",
       "      <th>All casualties</th>\n",
       "    </tr>\n",
       "  </thead>\n",
       "  <tbody>\n",
       "    <tr>\n",
       "      <th>0</th>\n",
       "      <td>2015</td>\n",
       "      <td>England</td>\n",
       "      <td>E92000001</td>\n",
       "      <td>Pedestrian</td>\n",
       "      <td>Pedestrian</td>\n",
       "      <td>NaN</td>\n",
       "      <td>NaN</td>\n",
       "      <td>3</td>\n",
       "    </tr>\n",
       "    <tr>\n",
       "      <th>1</th>\n",
       "      <td>2015</td>\n",
       "      <td>England</td>\n",
       "      <td>E92000001</td>\n",
       "      <td>Pedestrian</td>\n",
       "      <td>Pedestrian</td>\n",
       "      <td>Male</td>\n",
       "      <td>NaN</td>\n",
       "      <td>310</td>\n",
       "    </tr>\n",
       "    <tr>\n",
       "      <th>2</th>\n",
       "      <td>2015</td>\n",
       "      <td>England</td>\n",
       "      <td>E92000001</td>\n",
       "      <td>Pedestrian</td>\n",
       "      <td>Pedestrian</td>\n",
       "      <td>Male</td>\n",
       "      <td>0.0</td>\n",
       "      <td>10</td>\n",
       "    </tr>\n",
       "    <tr>\n",
       "      <th>3</th>\n",
       "      <td>2015</td>\n",
       "      <td>England</td>\n",
       "      <td>E92000001</td>\n",
       "      <td>Pedestrian</td>\n",
       "      <td>Pedestrian</td>\n",
       "      <td>Male</td>\n",
       "      <td>1.0</td>\n",
       "      <td>26</td>\n",
       "    </tr>\n",
       "    <tr>\n",
       "      <th>4</th>\n",
       "      <td>2015</td>\n",
       "      <td>England</td>\n",
       "      <td>E92000001</td>\n",
       "      <td>Pedestrian</td>\n",
       "      <td>Pedestrian</td>\n",
       "      <td>Male</td>\n",
       "      <td>2.0</td>\n",
       "      <td>93</td>\n",
       "    </tr>\n",
       "  </tbody>\n",
       "</table>\n",
       "</div>"
      ],
      "text/plain": [
       "   Accident year  Country   Ons code   Road user Casualty class Casualty sex  \\\n",
       "0           2015  England  E92000001  Pedestrian     Pedestrian          NaN   \n",
       "1           2015  England  E92000001  Pedestrian     Pedestrian         Male   \n",
       "2           2015  England  E92000001  Pedestrian     Pedestrian         Male   \n",
       "3           2015  England  E92000001  Pedestrian     Pedestrian         Male   \n",
       "4           2015  England  E92000001  Pedestrian     Pedestrian         Male   \n",
       "\n",
       "   Casualty age  All casualties  \n",
       "0           NaN               3  \n",
       "1           NaN             310  \n",
       "2           0.0              10  \n",
       "3           1.0              26  \n",
       "4           2.0              93  "
      ]
     },
     "execution_count": 65,
     "metadata": {},
     "output_type": "execute_result"
    }
   ],
   "source": [
    "df = pd.read_csv(r'C:\\Cardiff University\\CMT218 Data Visualisation\\Assessment and Feedback\\CW2\\Project_Live\\Great Britain Road Casualties 2015-2019.csv')\n",
    "# To display the top 5 rows \n",
    "df.head(5)"
   ]
  },
  {
   "cell_type": "code",
   "execution_count": 66,
   "metadata": {},
   "outputs": [
    {
     "data": {
      "text/html": [
       "<div>\n",
       "<style scoped>\n",
       "    .dataframe tbody tr th:only-of-type {\n",
       "        vertical-align: middle;\n",
       "    }\n",
       "\n",
       "    .dataframe tbody tr th {\n",
       "        vertical-align: top;\n",
       "    }\n",
       "\n",
       "    .dataframe thead th {\n",
       "        text-align: right;\n",
       "    }\n",
       "</style>\n",
       "<table border=\"1\" class=\"dataframe\">\n",
       "  <thead>\n",
       "    <tr style=\"text-align: right;\">\n",
       "      <th></th>\n",
       "      <th>Accident year</th>\n",
       "      <th>Country</th>\n",
       "      <th>Ons code</th>\n",
       "      <th>Road user</th>\n",
       "      <th>Casualty class</th>\n",
       "      <th>Casualty sex</th>\n",
       "      <th>Casualty age</th>\n",
       "      <th>All casualties</th>\n",
       "    </tr>\n",
       "  </thead>\n",
       "  <tbody>\n",
       "    <tr>\n",
       "      <th>20584</th>\n",
       "      <td>2019</td>\n",
       "      <td>Scotland</td>\n",
       "      <td>S92000003</td>\n",
       "      <td>Other vehicle</td>\n",
       "      <td>Passenger</td>\n",
       "      <td>Female</td>\n",
       "      <td>34.0</td>\n",
       "      <td>1</td>\n",
       "    </tr>\n",
       "    <tr>\n",
       "      <th>20585</th>\n",
       "      <td>2019</td>\n",
       "      <td>Scotland</td>\n",
       "      <td>S92000003</td>\n",
       "      <td>Other vehicle</td>\n",
       "      <td>Passenger</td>\n",
       "      <td>Female</td>\n",
       "      <td>53.0</td>\n",
       "      <td>1</td>\n",
       "    </tr>\n",
       "    <tr>\n",
       "      <th>20586</th>\n",
       "      <td>2019</td>\n",
       "      <td>Scotland</td>\n",
       "      <td>S92000003</td>\n",
       "      <td>Other vehicle</td>\n",
       "      <td>Passenger</td>\n",
       "      <td>Female</td>\n",
       "      <td>65.0</td>\n",
       "      <td>1</td>\n",
       "    </tr>\n",
       "    <tr>\n",
       "      <th>20587</th>\n",
       "      <td>2019</td>\n",
       "      <td>Scotland</td>\n",
       "      <td>S92000003</td>\n",
       "      <td>Other vehicle</td>\n",
       "      <td>Passenger</td>\n",
       "      <td>Female</td>\n",
       "      <td>68.0</td>\n",
       "      <td>1</td>\n",
       "    </tr>\n",
       "    <tr>\n",
       "      <th>20588</th>\n",
       "      <td>2019</td>\n",
       "      <td>Scotland</td>\n",
       "      <td>S92000003</td>\n",
       "      <td>Other vehicle</td>\n",
       "      <td>Passenger</td>\n",
       "      <td>Female</td>\n",
       "      <td>69.0</td>\n",
       "      <td>1</td>\n",
       "    </tr>\n",
       "  </tbody>\n",
       "</table>\n",
       "</div>"
      ],
      "text/plain": [
       "       Accident year   Country   Ons code      Road user Casualty class  \\\n",
       "20584           2019  Scotland  S92000003  Other vehicle      Passenger   \n",
       "20585           2019  Scotland  S92000003  Other vehicle      Passenger   \n",
       "20586           2019  Scotland  S92000003  Other vehicle      Passenger   \n",
       "20587           2019  Scotland  S92000003  Other vehicle      Passenger   \n",
       "20588           2019  Scotland  S92000003  Other vehicle      Passenger   \n",
       "\n",
       "      Casualty sex  Casualty age  All casualties  \n",
       "20584       Female          34.0               1  \n",
       "20585       Female          53.0               1  \n",
       "20586       Female          65.0               1  \n",
       "20587       Female          68.0               1  \n",
       "20588       Female          69.0               1  "
      ]
     },
     "execution_count": 66,
     "metadata": {},
     "output_type": "execute_result"
    }
   ],
   "source": [
    "df.tail(5)                        # To display the botton 5 rows"
   ]
  },
  {
   "cell_type": "markdown",
   "metadata": {},
   "source": [
    "**3. Checking the types of data**\n",
    "\n",
    "Here we check for the datatypes because sometimes the Casualty age or All casualties would be stored as a string, if in that case, we have to convert that string to the integer data only then we can plot the data via a graph. Here, in this case, the data is already in integer format so nothing to worry."
   ]
  },
  {
   "cell_type": "code",
   "execution_count": 67,
   "metadata": {},
   "outputs": [
    {
     "data": {
      "text/plain": [
       "Accident year       int64\n",
       "Country            object\n",
       "Ons code           object\n",
       "Road user          object\n",
       "Casualty class     object\n",
       "Casualty sex       object\n",
       "Casualty age      float64\n",
       "All casualties      int64\n",
       "dtype: object"
      ]
     },
     "execution_count": 67,
     "metadata": {},
     "output_type": "execute_result"
    }
   ],
   "source": [
    "df.dtypes"
   ]
  },
  {
   "cell_type": "markdown",
   "metadata": {},
   "source": [
    "**4. Dropping irrelevant columns**\n",
    "\n",
    "This step is certainly needed in every EDA because sometimes there would be many columns that we never use in such cases dropping is the only solution. In this case, the columns such as 'Ons code' doesn't make any sense to me so I just dropped for this instance."
   ]
  },
  {
   "cell_type": "code",
   "execution_count": 68,
   "metadata": {},
   "outputs": [
    {
     "data": {
      "text/html": [
       "<div>\n",
       "<style scoped>\n",
       "    .dataframe tbody tr th:only-of-type {\n",
       "        vertical-align: middle;\n",
       "    }\n",
       "\n",
       "    .dataframe tbody tr th {\n",
       "        vertical-align: top;\n",
       "    }\n",
       "\n",
       "    .dataframe thead th {\n",
       "        text-align: right;\n",
       "    }\n",
       "</style>\n",
       "<table border=\"1\" class=\"dataframe\">\n",
       "  <thead>\n",
       "    <tr style=\"text-align: right;\">\n",
       "      <th></th>\n",
       "      <th>Accident year</th>\n",
       "      <th>Country</th>\n",
       "      <th>Road user</th>\n",
       "      <th>Casualty class</th>\n",
       "      <th>Casualty sex</th>\n",
       "      <th>Casualty age</th>\n",
       "      <th>All casualties</th>\n",
       "    </tr>\n",
       "  </thead>\n",
       "  <tbody>\n",
       "    <tr>\n",
       "      <th>0</th>\n",
       "      <td>2015</td>\n",
       "      <td>England</td>\n",
       "      <td>Pedestrian</td>\n",
       "      <td>Pedestrian</td>\n",
       "      <td>NaN</td>\n",
       "      <td>NaN</td>\n",
       "      <td>3</td>\n",
       "    </tr>\n",
       "    <tr>\n",
       "      <th>1</th>\n",
       "      <td>2015</td>\n",
       "      <td>England</td>\n",
       "      <td>Pedestrian</td>\n",
       "      <td>Pedestrian</td>\n",
       "      <td>Male</td>\n",
       "      <td>NaN</td>\n",
       "      <td>310</td>\n",
       "    </tr>\n",
       "    <tr>\n",
       "      <th>2</th>\n",
       "      <td>2015</td>\n",
       "      <td>England</td>\n",
       "      <td>Pedestrian</td>\n",
       "      <td>Pedestrian</td>\n",
       "      <td>Male</td>\n",
       "      <td>0.0</td>\n",
       "      <td>10</td>\n",
       "    </tr>\n",
       "    <tr>\n",
       "      <th>3</th>\n",
       "      <td>2015</td>\n",
       "      <td>England</td>\n",
       "      <td>Pedestrian</td>\n",
       "      <td>Pedestrian</td>\n",
       "      <td>Male</td>\n",
       "      <td>1.0</td>\n",
       "      <td>26</td>\n",
       "    </tr>\n",
       "    <tr>\n",
       "      <th>4</th>\n",
       "      <td>2015</td>\n",
       "      <td>England</td>\n",
       "      <td>Pedestrian</td>\n",
       "      <td>Pedestrian</td>\n",
       "      <td>Male</td>\n",
       "      <td>2.0</td>\n",
       "      <td>93</td>\n",
       "    </tr>\n",
       "  </tbody>\n",
       "</table>\n",
       "</div>"
      ],
      "text/plain": [
       "   Accident year  Country   Road user Casualty class Casualty sex  \\\n",
       "0           2015  England  Pedestrian     Pedestrian          NaN   \n",
       "1           2015  England  Pedestrian     Pedestrian         Male   \n",
       "2           2015  England  Pedestrian     Pedestrian         Male   \n",
       "3           2015  England  Pedestrian     Pedestrian         Male   \n",
       "4           2015  England  Pedestrian     Pedestrian         Male   \n",
       "\n",
       "   Casualty age  All casualties  \n",
       "0           NaN               3  \n",
       "1           NaN             310  \n",
       "2           0.0              10  \n",
       "3           1.0              26  \n",
       "4           2.0              93  "
      ]
     },
     "execution_count": 68,
     "metadata": {},
     "output_type": "execute_result"
    }
   ],
   "source": [
    "df = df.drop(['Ons code'], axis=1)\n",
    "df.head(5)"
   ]
  },
  {
   "cell_type": "markdown",
   "metadata": {},
   "source": [
    "**5. Renaming the columns**\n",
    "\n",
    "In this instance, most of the column names are very confusing to read, so I just tweaked their column names. This is a good approach it improves the readability of the data set."
   ]
  },
  {
   "cell_type": "code",
   "execution_count": 69,
   "metadata": {},
   "outputs": [
    {
     "data": {
      "text/html": [
       "<div>\n",
       "<style scoped>\n",
       "    .dataframe tbody tr th:only-of-type {\n",
       "        vertical-align: middle;\n",
       "    }\n",
       "\n",
       "    .dataframe tbody tr th {\n",
       "        vertical-align: top;\n",
       "    }\n",
       "\n",
       "    .dataframe thead th {\n",
       "        text-align: right;\n",
       "    }\n",
       "</style>\n",
       "<table border=\"1\" class=\"dataframe\">\n",
       "  <thead>\n",
       "    <tr style=\"text-align: right;\">\n",
       "      <th></th>\n",
       "      <th>Accident_year</th>\n",
       "      <th>Country</th>\n",
       "      <th>Road_user</th>\n",
       "      <th>Casualty_class</th>\n",
       "      <th>Casualty_sex</th>\n",
       "      <th>Casualty_age</th>\n",
       "      <th>All_casualties</th>\n",
       "    </tr>\n",
       "  </thead>\n",
       "  <tbody>\n",
       "    <tr>\n",
       "      <th>0</th>\n",
       "      <td>2015</td>\n",
       "      <td>England</td>\n",
       "      <td>Pedestrian</td>\n",
       "      <td>Pedestrian</td>\n",
       "      <td>NaN</td>\n",
       "      <td>NaN</td>\n",
       "      <td>3</td>\n",
       "    </tr>\n",
       "    <tr>\n",
       "      <th>1</th>\n",
       "      <td>2015</td>\n",
       "      <td>England</td>\n",
       "      <td>Pedestrian</td>\n",
       "      <td>Pedestrian</td>\n",
       "      <td>Male</td>\n",
       "      <td>NaN</td>\n",
       "      <td>310</td>\n",
       "    </tr>\n",
       "    <tr>\n",
       "      <th>2</th>\n",
       "      <td>2015</td>\n",
       "      <td>England</td>\n",
       "      <td>Pedestrian</td>\n",
       "      <td>Pedestrian</td>\n",
       "      <td>Male</td>\n",
       "      <td>0.0</td>\n",
       "      <td>10</td>\n",
       "    </tr>\n",
       "    <tr>\n",
       "      <th>3</th>\n",
       "      <td>2015</td>\n",
       "      <td>England</td>\n",
       "      <td>Pedestrian</td>\n",
       "      <td>Pedestrian</td>\n",
       "      <td>Male</td>\n",
       "      <td>1.0</td>\n",
       "      <td>26</td>\n",
       "    </tr>\n",
       "    <tr>\n",
       "      <th>4</th>\n",
       "      <td>2015</td>\n",
       "      <td>England</td>\n",
       "      <td>Pedestrian</td>\n",
       "      <td>Pedestrian</td>\n",
       "      <td>Male</td>\n",
       "      <td>2.0</td>\n",
       "      <td>93</td>\n",
       "    </tr>\n",
       "  </tbody>\n",
       "</table>\n",
       "</div>"
      ],
      "text/plain": [
       "   Accident_year  Country   Road_user Casualty_class Casualty_sex  \\\n",
       "0           2015  England  Pedestrian     Pedestrian          NaN   \n",
       "1           2015  England  Pedestrian     Pedestrian         Male   \n",
       "2           2015  England  Pedestrian     Pedestrian         Male   \n",
       "3           2015  England  Pedestrian     Pedestrian         Male   \n",
       "4           2015  England  Pedestrian     Pedestrian         Male   \n",
       "\n",
       "   Casualty_age  All_casualties  \n",
       "0           NaN               3  \n",
       "1           NaN             310  \n",
       "2           0.0              10  \n",
       "3           1.0              26  \n",
       "4           2.0              93  "
      ]
     },
     "execution_count": 69,
     "metadata": {},
     "output_type": "execute_result"
    }
   ],
   "source": [
    "df = df.rename(columns={\"Accident year\": \"Accident_year\", \"Country\": \"Country\", \"Road user\": \"Road_user\", \"Casualty class\": \"Casualty_class\", \"Casualty sex\": \"Casualty_sex\", \"Casualty age\": \"Casualty_age\", \"All casualties\": \"All_casualties\"})\n",
    "df.head(5)"
   ]
  },
  {
   "cell_type": "code",
   "execution_count": 70,
   "metadata": {},
   "outputs": [
    {
     "data": {
      "text/html": [
       "<div>\n",
       "<style scoped>\n",
       "    .dataframe tbody tr th:only-of-type {\n",
       "        vertical-align: middle;\n",
       "    }\n",
       "\n",
       "    .dataframe tbody tr th {\n",
       "        vertical-align: top;\n",
       "    }\n",
       "\n",
       "    .dataframe thead th {\n",
       "        text-align: right;\n",
       "    }\n",
       "</style>\n",
       "<table border=\"1\" class=\"dataframe\">\n",
       "  <thead>\n",
       "    <tr style=\"text-align: right;\">\n",
       "      <th></th>\n",
       "      <th>Accident_year</th>\n",
       "      <th>Country</th>\n",
       "      <th>Road_user</th>\n",
       "      <th>Casualty_class</th>\n",
       "      <th>Casualty_sex</th>\n",
       "      <th>Casualty_age</th>\n",
       "      <th>All_casualties</th>\n",
       "    </tr>\n",
       "  </thead>\n",
       "  <tbody>\n",
       "    <tr>\n",
       "      <th>0</th>\n",
       "      <td>2015</td>\n",
       "      <td>England</td>\n",
       "      <td>Pedestrian</td>\n",
       "      <td>Pedestrian</td>\n",
       "      <td>NaN</td>\n",
       "      <td>NaN</td>\n",
       "      <td>3</td>\n",
       "    </tr>\n",
       "    <tr>\n",
       "      <th>1</th>\n",
       "      <td>2015</td>\n",
       "      <td>England</td>\n",
       "      <td>Pedestrian</td>\n",
       "      <td>Pedestrian</td>\n",
       "      <td>Male</td>\n",
       "      <td>NaN</td>\n",
       "      <td>310</td>\n",
       "    </tr>\n",
       "    <tr>\n",
       "      <th>2</th>\n",
       "      <td>2015</td>\n",
       "      <td>England</td>\n",
       "      <td>Pedestrian</td>\n",
       "      <td>Pedestrian</td>\n",
       "      <td>Male</td>\n",
       "      <td>0.0</td>\n",
       "      <td>10</td>\n",
       "    </tr>\n",
       "    <tr>\n",
       "      <th>3</th>\n",
       "      <td>2015</td>\n",
       "      <td>England</td>\n",
       "      <td>Pedestrian</td>\n",
       "      <td>Pedestrian</td>\n",
       "      <td>Male</td>\n",
       "      <td>1.0</td>\n",
       "      <td>26</td>\n",
       "    </tr>\n",
       "    <tr>\n",
       "      <th>4</th>\n",
       "      <td>2015</td>\n",
       "      <td>England</td>\n",
       "      <td>Pedestrian</td>\n",
       "      <td>Pedestrian</td>\n",
       "      <td>Male</td>\n",
       "      <td>2.0</td>\n",
       "      <td>93</td>\n",
       "    </tr>\n",
       "  </tbody>\n",
       "</table>\n",
       "</div>"
      ],
      "text/plain": [
       "   Accident_year  Country   Road_user Casualty_class Casualty_sex  \\\n",
       "0           2015  England  Pedestrian     Pedestrian          NaN   \n",
       "1           2015  England  Pedestrian     Pedestrian         Male   \n",
       "2           2015  England  Pedestrian     Pedestrian         Male   \n",
       "3           2015  England  Pedestrian     Pedestrian         Male   \n",
       "4           2015  England  Pedestrian     Pedestrian         Male   \n",
       "\n",
       "   Casualty_age  All_casualties  \n",
       "0           NaN               3  \n",
       "1           NaN             310  \n",
       "2           0.0              10  \n",
       "3           1.0              26  \n",
       "4           2.0              93  "
      ]
     },
     "execution_count": 70,
     "metadata": {},
     "output_type": "execute_result"
    }
   ],
   "source": [
    "df.head(5)"
   ]
  },
  {
   "cell_type": "markdown",
   "metadata": {},
   "source": [
    "**6. Dropping the duplicate rows**\n",
    "\n",
    "For **example** prior to removing I had 16599 rows of data but after removing the duplicates 10925 data meaning that I had 989 of duplicate data."
   ]
  },
  {
   "cell_type": "code",
   "execution_count": 71,
   "metadata": {},
   "outputs": [
    {
     "data": {
      "text/plain": [
       "(20589, 7)"
      ]
     },
     "execution_count": 71,
     "metadata": {},
     "output_type": "execute_result"
    }
   ],
   "source": [
    "df.shape"
   ]
  },
  {
   "cell_type": "code",
   "execution_count": 72,
   "metadata": {},
   "outputs": [
    {
     "name": "stdout",
     "output_type": "stream",
     "text": [
      "number of duplicate rows:  (0, 7)\n"
     ]
    }
   ],
   "source": [
    "duplicate_rows_df = df[df.duplicated()]\n",
    "print(\"number of duplicate rows: \", duplicate_rows_df.shape)"
   ]
  },
  {
   "cell_type": "markdown",
   "metadata": {},
   "source": [
    "Here i did not found any dublicate rows in my data set."
   ]
  },
  {
   "cell_type": "markdown",
   "metadata": {},
   "source": [
    "**7. Dropping the missing or null values**\n",
    "\n",
    "This is mostly similar to the previous step but in here all the missing values are detected and are dropped later. Now, this is not a good approach to do so, because many people just replace the missing values with the mean or the average of that column, but in this case, I just dropped that missing values."
   ]
  },
  {
   "cell_type": "code",
   "execution_count": 73,
   "metadata": {},
   "outputs": [
    {
     "data": {
      "text/plain": [
       "Accident_year     20589\n",
       "Country           20589\n",
       "Road_user         20589\n",
       "Casualty_class    20589\n",
       "Casualty_sex      20384\n",
       "Casualty_age      20343\n",
       "All_casualties    20589\n",
       "dtype: int64"
      ]
     },
     "execution_count": 73,
     "metadata": {},
     "output_type": "execute_result"
    }
   ],
   "source": [
    "df.count()"
   ]
  },
  {
   "cell_type": "code",
   "execution_count": 74,
   "metadata": {},
   "outputs": [
    {
     "name": "stdout",
     "output_type": "stream",
     "text": [
      "Accident_year       0\n",
      "Country             0\n",
      "Road_user           0\n",
      "Casualty_class      0\n",
      "Casualty_sex      205\n",
      "Casualty_age      246\n",
      "All_casualties      0\n",
      "dtype: int64\n"
     ]
    }
   ],
   "source": [
    "print(df.isnull().sum())"
   ]
  },
  {
   "cell_type": "code",
   "execution_count": 75,
   "metadata": {},
   "outputs": [
    {
     "data": {
      "text/html": [
       "<div>\n",
       "<style scoped>\n",
       "    .dataframe tbody tr th:only-of-type {\n",
       "        vertical-align: middle;\n",
       "    }\n",
       "\n",
       "    .dataframe tbody tr th {\n",
       "        vertical-align: top;\n",
       "    }\n",
       "\n",
       "    .dataframe thead th {\n",
       "        text-align: right;\n",
       "    }\n",
       "</style>\n",
       "<table border=\"1\" class=\"dataframe\">\n",
       "  <thead>\n",
       "    <tr style=\"text-align: right;\">\n",
       "      <th></th>\n",
       "      <th>Accident_year</th>\n",
       "      <th>Country</th>\n",
       "      <th>Road_user</th>\n",
       "      <th>Casualty_class</th>\n",
       "      <th>Casualty_sex</th>\n",
       "      <th>Casualty_age</th>\n",
       "      <th>All_casualties</th>\n",
       "    </tr>\n",
       "  </thead>\n",
       "  <tbody>\n",
       "    <tr>\n",
       "      <th>2</th>\n",
       "      <td>2015</td>\n",
       "      <td>England</td>\n",
       "      <td>Pedestrian</td>\n",
       "      <td>Pedestrian</td>\n",
       "      <td>Male</td>\n",
       "      <td>0.0</td>\n",
       "      <td>10</td>\n",
       "    </tr>\n",
       "    <tr>\n",
       "      <th>3</th>\n",
       "      <td>2015</td>\n",
       "      <td>England</td>\n",
       "      <td>Pedestrian</td>\n",
       "      <td>Pedestrian</td>\n",
       "      <td>Male</td>\n",
       "      <td>1.0</td>\n",
       "      <td>26</td>\n",
       "    </tr>\n",
       "    <tr>\n",
       "      <th>4</th>\n",
       "      <td>2015</td>\n",
       "      <td>England</td>\n",
       "      <td>Pedestrian</td>\n",
       "      <td>Pedestrian</td>\n",
       "      <td>Male</td>\n",
       "      <td>2.0</td>\n",
       "      <td>93</td>\n",
       "    </tr>\n",
       "    <tr>\n",
       "      <th>5</th>\n",
       "      <td>2015</td>\n",
       "      <td>England</td>\n",
       "      <td>Pedestrian</td>\n",
       "      <td>Pedestrian</td>\n",
       "      <td>Male</td>\n",
       "      <td>3.0</td>\n",
       "      <td>167</td>\n",
       "    </tr>\n",
       "    <tr>\n",
       "      <th>6</th>\n",
       "      <td>2015</td>\n",
       "      <td>England</td>\n",
       "      <td>Pedestrian</td>\n",
       "      <td>Pedestrian</td>\n",
       "      <td>Male</td>\n",
       "      <td>4.0</td>\n",
       "      <td>165</td>\n",
       "    </tr>\n",
       "  </tbody>\n",
       "</table>\n",
       "</div>"
      ],
      "text/plain": [
       "   Accident_year  Country   Road_user Casualty_class Casualty_sex  \\\n",
       "2           2015  England  Pedestrian     Pedestrian         Male   \n",
       "3           2015  England  Pedestrian     Pedestrian         Male   \n",
       "4           2015  England  Pedestrian     Pedestrian         Male   \n",
       "5           2015  England  Pedestrian     Pedestrian         Male   \n",
       "6           2015  England  Pedestrian     Pedestrian         Male   \n",
       "\n",
       "   Casualty_age  All_casualties  \n",
       "2           0.0              10  \n",
       "3           1.0              26  \n",
       "4           2.0              93  \n",
       "5           3.0             167  \n",
       "6           4.0             165  "
      ]
     },
     "execution_count": 75,
     "metadata": {},
     "output_type": "execute_result"
    }
   ],
   "source": [
    "df = df.dropna( axis=0, how='any')   # Dropping the missing values.\n",
    "df.head(5)"
   ]
  },
  {
   "cell_type": "markdown",
   "metadata": {},
   "source": [
    "Don't drop the rows.If the NaN represents more than 50% of the Column."
   ]
  },
  {
   "cell_type": "code",
   "execution_count": 76,
   "metadata": {},
   "outputs": [],
   "source": [
    "def drop_cols_na(df, threshold=0.5): \n",
    "  threshold = len(df.index) * threshold\n",
    "  cols=[c for c in df.columns if sum(df[c].isnull()) >= threshold]\n",
    "  df.drop(cols,axis=0,errors='ignore', inplace = True)"
   ]
  },
  {
   "cell_type": "code",
   "execution_count": 77,
   "metadata": {},
   "outputs": [],
   "source": [
    "drop_cols_na(df)"
   ]
  },
  {
   "cell_type": "code",
   "execution_count": 78,
   "metadata": {},
   "outputs": [
    {
     "data": {
      "text/plain": [
       "Accident_year     20183\n",
       "Country           20183\n",
       "Road_user         20183\n",
       "Casualty_class    20183\n",
       "Casualty_sex      20183\n",
       "Casualty_age      20183\n",
       "All_casualties    20183\n",
       "dtype: int64"
      ]
     },
     "execution_count": 78,
     "metadata": {},
     "output_type": "execute_result"
    }
   ],
   "source": [
    "df.count()"
   ]
  },
  {
   "cell_type": "code",
   "execution_count": 80,
   "metadata": {},
   "outputs": [
    {
     "name": "stdout",
     "output_type": "stream",
     "text": [
      "Accident_year     0\n",
      "Country           0\n",
      "Road_user         0\n",
      "Casualty_class    0\n",
      "Casualty_sex      0\n",
      "Casualty_age      0\n",
      "All_casualties    0\n",
      "dtype: int64\n"
     ]
    }
   ],
   "source": [
    "print(df.isnull().sum())   # After dropping the values"
   ]
  },
  {
   "cell_type": "markdown",
   "metadata": {},
   "source": [
    "**8.Export Pandas DataFrame to a CSV File**"
   ]
  },
  {
   "cell_type": "code",
   "execution_count": 81,
   "metadata": {},
   "outputs": [],
   "source": [
    "df.to_csv(r'C:\\Cardiff University\\CMT218 Data Visualisation\\Assessment and Feedback\\CW2\\Project_Live\\Great Britain Road Casualties 2015-2019 Cleaned data1.csv', index = False)"
   ]
  },
  {
   "cell_type": "code",
   "execution_count": null,
   "metadata": {},
   "outputs": [],
   "source": []
  }
 ],
 "metadata": {
  "kernelspec": {
   "display_name": "Python 3",
   "language": "python",
   "name": "python3"
  },
  "language_info": {
   "codemirror_mode": {
    "name": "ipython",
    "version": 3
   },
   "file_extension": ".py",
   "mimetype": "text/x-python",
   "name": "python",
   "nbconvert_exporter": "python",
   "pygments_lexer": "ipython3",
   "version": "3.7.6"
  }
 },
 "nbformat": 4,
 "nbformat_minor": 4
}
